{
 "cells": [
  {
   "cell_type": "markdown",
   "metadata": {},
   "source": [
    "# Programming Assignment 1: Wiener and Poisson Processes"
   ]
  },
  {
   "cell_type": "markdown",
   "metadata": {},
   "source": [
    "The main goal of this first lab is to introduce you to python through a few computing concepts in probability. At this point in your academic careers you should have some knowledge of object oriented computer programming. It would certainly help if you've had experience with Python, but if not, have no fear. Python is a very intuitive programming language. If you've coded in C#, JAVA, or Matlab you should have no trouble learning Python. Before we get too far into the code, we present a few general notions of what the environment will look like."
   ]
  },
  {
   "cell_type": "markdown",
   "metadata": {},
   "source": [
    "## A Quick Introduction to Python Code"
   ]
  },
  {
   "cell_type": "markdown",
   "metadata": {},
   "source": [
    "### (material adapted from ECE 314, Probability Lab)"
   ]
  },
  {
   "cell_type": "markdown",
   "metadata": {},
   "source": [
    "#### Importing Modules"
   ]
  },
  {
   "cell_type": "markdown",
   "metadata": {},
   "source": [
    "Python is an object-oriented programming language, where the user has access to functions through imported packages. A package is a collection of modules in directories that have a hierarchy.  The three most common packages that we will use in this course are numpy, scipy, and matplotlib, though we will pick up others along the way. Before you can use any of these, you must import them. You only need to import them once in an iPython Notebook file, and then any cell in the notebook can have access to them. Running the code below imports all the pakages you will need for this lab. The simple print statement lets you know when it's completed. "
   ]
  },
  {
   "cell_type": "code",
   "execution_count": 1,
   "metadata": {
    "collapsed": false
   },
   "outputs": [
    {
     "name": "stdout",
     "output_type": "stream",
     "text": [
      "Modules Imported!\n"
     ]
    }
   ],
   "source": [
    "%matplotlib inline\n",
    "import matplotlib.pyplot as plt\n",
    "import numpy as np\n",
    "print(\"Modules Imported!\")"
   ]
  },
  {
   "cell_type": "markdown",
   "metadata": {},
   "source": [
    "The first line is slightly different than the others and uses what is known as a \"magic\" function. This particular \"magic\" function simply makes it so that the plots we generate with the matplotlib package occur inline as opposed to opening in new windows outside of the notebook."
   ]
  },
  {
   "cell_type": "markdown",
   "metadata": {},
   "source": [
    "#### Basic Math"
   ]
  },
  {
   "cell_type": "markdown",
   "metadata": {},
   "source": [
    "Python is very similar to Matlab and can be used to solve numerical problems. We simply need to run an expression and it will output an answer. "
   ]
  },
  {
   "cell_type": "code",
   "execution_count": 2,
   "metadata": {
    "collapsed": false
   },
   "outputs": [
    {
     "data": {
      "text/plain": [
       "11"
      ]
     },
     "execution_count": 2,
     "metadata": {},
     "output_type": "execute_result"
    }
   ],
   "source": [
    "3+4*2"
   ]
  },
  {
   "cell_type": "markdown",
   "metadata": {},
   "source": [
    "We can also create a variable, set it equal to an expression, and print the value."
   ]
  },
  {
   "cell_type": "code",
   "execution_count": 3,
   "metadata": {
    "collapsed": false
   },
   "outputs": [
    {
     "name": "stdout",
     "output_type": "stream",
     "text": [
      "19\n"
     ]
    }
   ],
   "source": [
    "x = 3+4**2\n",
    "print(x)"
   ]
  },
  {
   "cell_type": "markdown",
   "metadata": {},
   "source": [
    "We used ** to represent an exponent. Similarly, we can take the square root of a number this way.  Here is an attempt:"
   ]
  },
  {
   "cell_type": "code",
   "execution_count": 8,
   "metadata": {
    "collapsed": false
   },
   "outputs": [
    {
     "data": {
      "text/plain": [
       "4"
      ]
     },
     "execution_count": 8,
     "metadata": {},
     "output_type": "execute_result"
    }
   ],
   "source": [
    "3+4**(1/2)"
   ]
  },
  {
   "cell_type": "markdown",
   "metadata": {},
   "source": [
    "Did you expect to get $5$? A tricky part of Python is keeping track of how types work. The reason we got 4 as an answer lies in the computation of $\\frac{1}{2}$. Since $1$ and $2$ are both integers, Python makes $\\frac{1}{2}$ an integer as well and rounds the $0.5$ to $0$. By including a decimal after the $1$, we can signify that we want to treat $1.0$ as a double precision number. Notice our output is now a double too. (This is the default behavior in Python 2.7. In Python 3.0, this changes and the default behavior is double division)"
   ]
  },
  {
   "cell_type": "code",
   "execution_count": 9,
   "metadata": {
    "collapsed": false
   },
   "outputs": [
    {
     "data": {
      "text/plain": [
       "5.0"
      ]
     },
     "execution_count": 9,
     "metadata": {},
     "output_type": "execute_result"
    }
   ],
   "source": [
    "3+4**(1./2)"
   ]
  },
  {
   "cell_type": "markdown",
   "metadata": {},
   "source": [
    "Python handles lists very similarly to Matlab. We can set variables equal to lists and perform operations on them. We can change the contents of the list and they don't need to be of the same type. This is called being mutable. Note that Python indexes starting with 0, as shown below."
   ]
  },
  {
   "cell_type": "code",
   "execution_count": 10,
   "metadata": {
    "collapsed": false
   },
   "outputs": [
    {
     "name": "stdout",
     "output_type": "stream",
     "text": [
      "([1, 2, 3, 4, 5], [6, 7, 8, 9, 10])\n",
      "Dog\n"
     ]
    }
   ],
   "source": [
    "x = [1,2,3,4,5]\n",
    "y = [6,7,8,9,10]\n",
    "print (x, y)\n",
    "x[0] = 'Dog'\n",
    "print (x[0])"
   ]
  },
  {
   "cell_type": "markdown",
   "metadata": {},
   "source": [
    "Python also has what is known as a tuple. A tuple is very similar to a list, but is immutable. We cannot change the contents of the tuple. Tuples are often used to input or return objects. Below is the same code as above, but with tuples. It gives us an error message when we try to set x[0]."
   ]
  },
  {
   "cell_type": "code",
   "execution_count": 11,
   "metadata": {
    "collapsed": false
   },
   "outputs": [
    {
     "name": "stdout",
     "output_type": "stream",
     "text": [
      "((1, 2, 3, 4, 5), (6, 7, 8, 9, 10))\n"
     ]
    },
    {
     "ename": "TypeError",
     "evalue": "'tuple' object does not support item assignment",
     "output_type": "error",
     "traceback": [
      "\u001b[1;31m---------------------------------------------------------------------------\u001b[0m",
      "\u001b[1;31mTypeError\u001b[0m                                 Traceback (most recent call last)",
      "\u001b[1;32m<ipython-input-11-bbaf6d3d15a3>\u001b[0m in \u001b[0;36m<module>\u001b[1;34m()\u001b[0m\n\u001b[0;32m      2\u001b[0m \u001b[0my\u001b[0m \u001b[1;33m=\u001b[0m \u001b[1;33m(\u001b[0m\u001b[1;36m6\u001b[0m\u001b[1;33m,\u001b[0m\u001b[1;36m7\u001b[0m\u001b[1;33m,\u001b[0m\u001b[1;36m8\u001b[0m\u001b[1;33m,\u001b[0m\u001b[1;36m9\u001b[0m\u001b[1;33m,\u001b[0m\u001b[1;36m10\u001b[0m\u001b[1;33m)\u001b[0m\u001b[1;33m\u001b[0m\u001b[0m\n\u001b[0;32m      3\u001b[0m \u001b[1;32mprint\u001b[0m\u001b[1;33m(\u001b[0m\u001b[0mx\u001b[0m\u001b[1;33m,\u001b[0m \u001b[0my\u001b[0m\u001b[1;33m)\u001b[0m\u001b[1;33m\u001b[0m\u001b[0m\n\u001b[1;32m----> 4\u001b[1;33m \u001b[0mx\u001b[0m\u001b[1;33m[\u001b[0m\u001b[1;36m0\u001b[0m\u001b[1;33m]\u001b[0m \u001b[1;33m=\u001b[0m \u001b[1;34m'Dog'\u001b[0m\u001b[1;33m\u001b[0m\u001b[0m\n\u001b[0m\u001b[0;32m      5\u001b[0m \u001b[1;32mprint\u001b[0m\u001b[1;33m(\u001b[0m\u001b[0mx\u001b[0m\u001b[1;33m[\u001b[0m\u001b[1;36m0\u001b[0m\u001b[1;33m]\u001b[0m\u001b[1;33m)\u001b[0m\u001b[1;33m\u001b[0m\u001b[0m\n",
      "\u001b[1;31mTypeError\u001b[0m: 'tuple' object does not support item assignment"
     ]
    }
   ],
   "source": [
    "x = (1,2,3,4,5)\n",
    "y = (6,7,8,9,10)\n",
    "print(x, y)\n",
    "x[0] = 'Dog'\n",
    "print(x[0])"
   ]
  },
  {
   "cell_type": "markdown",
   "metadata": {},
   "source": [
    "Below is a list of tuples. It has two tuples and each tuple has five elements."
   ]
  },
  {
   "cell_type": "code",
   "execution_count": 12,
   "metadata": {
    "collapsed": false,
    "scrolled": true
   },
   "outputs": [
    {
     "name": "stdout",
     "output_type": "stream",
     "text": [
      "[(1, 2, 3, 4, 5), (6, 7, 8, 9, 10)]\n",
      "4\n"
     ]
    }
   ],
   "source": [
    "x = [(1,2,3,4,5),(6,7,8,9,10)]\n",
    "print(x)\n",
    "print(x[0][3])"
   ]
  },
  {
   "cell_type": "markdown",
   "metadata": {},
   "source": [
    "You may like to think of lists and tuples as arrays in some sense, but try to keep them separate. An array is actually an object from the NumPy module. We'll go over them a little bit further in the lab, but there are some notable differences."
   ]
  },
  {
   "cell_type": "markdown",
   "metadata": {},
   "source": [
    "#### Ifs, Loops, and Functions"
   ]
  },
  {
   "cell_type": "markdown",
   "metadata": {},
   "source": [
    "If statements in Python are like those of most other languages. You need to use a keyword (if or else), followed by a condition, and finally a colon (:). Keep in mind instead of using brackets for grouping, Python goes by indentation. In the if statement below all parts of the if statement are contained within that indentation."
   ]
  },
  {
   "cell_type": "code",
   "execution_count": null,
   "metadata": {
    "collapsed": false
   },
   "outputs": [],
   "source": [
    "x = 3\n",
    "y = 1\n",
    "if x>y:\n",
    "    print(\"I\")\n",
    "    if x>3:\n",
    "        print(\"Hate\")\n",
    "    else:\n",
    "        print(\"Love\")\n",
    "    print(\"Probability\")\n",
    "print(\"!\")"
   ]
  },
  {
   "cell_type": "markdown",
   "metadata": {},
   "source": [
    "For loops use the keyword \"for\" followed by a variable and the keyword \"in\" and a certain range or vector. The same rules for indentation apply here. Recall that indexing starts at 0. The range(n) function simply creates a integer list from 0 to n-1 in whole number increments."
   ]
  },
  {
   "cell_type": "code",
   "execution_count": null,
   "metadata": {
    "collapsed": false
   },
   "outputs": [],
   "source": [
    "x = [0,0,0,0,0]\n",
    "for i in range(5):\n",
    "    c = 2*i**2\n",
    "    x[i]=c\n",
    "print(x)"
   ]
  },
  {
   "cell_type": "markdown",
   "metadata": {},
   "source": [
    "Similarly, you can use while loops. In the code below, we make use of the .append method of a list to keep adding to our list without needing to know the size initially. (By the way, a \"method\" is a function associated with an object.  In this case, append is a method associated with a list.)"
   ]
  },
  {
   "cell_type": "code",
   "execution_count": null,
   "metadata": {
    "collapsed": false
   },
   "outputs": [],
   "source": [
    "x = [0]\n",
    "i = 0\n",
    "while x[i]<12:\n",
    "    i = i+1\n",
    "    x.append(i)\n",
    "print(x)"
   ]
  },
  {
   "cell_type": "markdown",
   "metadata": {},
   "source": [
    "To specify a function, we need to use the \"def\" keyword. You need give the number of inputs and have a return line to end your function. Below is a function that returns the factorial of the input."
   ]
  },
  {
   "cell_type": "code",
   "execution_count": null,
   "metadata": {
    "collapsed": false
   },
   "outputs": [],
   "source": [
    "def factorial(x):\n",
    "    c = 1\n",
    "    for i in range(x,1,-1): #range(x,1,-1) creates a vector from x to 1 in -1 increments\n",
    "        c = c*i\n",
    "    return c\n",
    "\n",
    "x = 7\n",
    "print(factorial(3))"
   ]
  },
  {
   "cell_type": "markdown",
   "metadata": {},
   "source": [
    "You can also return multiple outputs. Technically, we are still returning a single object, but it is a tuple. We can unpack the tuple when we call the function. Below is a function that returns the first and last digit of any integer."
   ]
  },
  {
   "cell_type": "code",
   "execution_count": null,
   "metadata": {
    "collapsed": false
   },
   "outputs": [],
   "source": [
    "def firstNlast(x):\n",
    "    l = x%10 # Uses the modulus operator %\n",
    "    while x>0:\n",
    "        f = x%10\n",
    "        x=x/10\n",
    "    return f,l\n",
    "\n",
    "x = 70094921348\n",
    "first, last = firstNlast(x)\n",
    "print(first, last)"
   ]
  },
  {
   "cell_type": "markdown",
   "metadata": {},
   "source": [
    "The returned items get returned as a tuple and you can individually retrieve them by setting them equal to another tuple."
   ]
  },
  {
   "cell_type": "markdown",
   "metadata": {},
   "source": [
    "#### Using Modules"
   ]
  },
  {
   "cell_type": "markdown",
   "metadata": {},
   "source": [
    "One of the reasons Python is so popular is due to the building capability of the packages. Remember those files we imported initially? We have access to all of the methods they contain. We abbreviated them to shorthand signifiers so we can code more quickly. It would be impossible to give you an overview of all the useful methods because there are so many. But they are fairly intuitive, so if you think something should be a method, it's probably included. Let's start with NumPy and create an array."
   ]
  },
  {
   "cell_type": "code",
   "execution_count": null,
   "metadata": {
    "collapsed": false
   },
   "outputs": [],
   "source": [
    "x = np.array([1,2,3,4,5])\n",
    "print(x)\n",
    "print(x[3])"
   ]
  },
  {
   "cell_type": "markdown",
   "metadata": {},
   "source": [
    "In order to access the \"array\" method we just needed to type our signifier \"np\" and then put a decimal and the method. If you want a list of methods to come up as you're coding, after typing the decimal, hit tab on your keyboard. We can similarly declare multidemensional arrays, but notice the use of brackets and indexing. Unlike lists, arrays can only contain a single type. Indexing is also done a little more intuitively (like Matlab) than that of lists. Arrays are also mutable and can be used in multiple dimensions (to create matrices for instance)."
   ]
  },
  {
   "cell_type": "code",
   "execution_count": 13,
   "metadata": {
    "collapsed": false
   },
   "outputs": [
    {
     "name": "stdout",
     "output_type": "stream",
     "text": [
      "[[1 2 3]\n",
      " [4 5 6]\n",
      " [7 8 9]]\n",
      "1\n",
      "[2 5 8]\n",
      "[4 5 6]\n"
     ]
    }
   ],
   "source": [
    "x = np.array([[1,2,3],[4,5,6],[7,8,9]])\n",
    "print(x)\n",
    "print(x[0,0])\n",
    "print(x[:,1])\n",
    "print(x[1,:])"
   ]
  },
  {
   "cell_type": "markdown",
   "metadata": {},
   "source": [
    "To give you a better idea of how to use these modules, here are a number of coding examples with functions that will be particularly useful to you this semester. Below we define the unit step function and then plot it over time. Of course we need to properly title and label the graph."
   ]
  },
  {
   "cell_type": "code",
   "execution_count": 14,
   "metadata": {
    "collapsed": false
   },
   "outputs": [
    {
     "name": "stdout",
     "output_type": "stream",
     "text": [
      "[ 0.  0.  0.  1.  1.  1.  1.]\n"
     ]
    },
    {
     "data": {
      "text/plain": [
       "[-10, 10, 0, 1.2]"
      ]
     },
     "execution_count": 14,
     "metadata": {},
     "output_type": "execute_result"
    },
    {
     "data": {
      "image/png": "[encoded data removed]",
      "text/plain": [
       "<matplotlib.figure.Figure at 0x7f1389e6f250>"
      ]
     },
     "metadata": {},
     "output_type": "display_data"
    }
   ],
   "source": [
    "# define UnitStep\n",
    "def UnitStep(t): # the input to UnitStep is an array of reals\n",
    "    return np.where(t<0, 0., 1.) # returns an array of 0's (where entries of t are negative) and 1's (otherwise)\n",
    "\n",
    "# example of evaluation\n",
    "tvals = np.array([-3,-2,-1,0,1,2,3])\n",
    "print(UnitStep(tvals))\n",
    "\n",
    "# now we will generate a plot of UnitStep\n",
    "t = np.linspace(-10,10,1000) # creates an array from -10 to 10 with 1000 points in it\n",
    "plt.plot(t,UnitStep(t)) # generates a plot of UnitStep(t) vs t\n",
    "plt.title('Unit Step')\n",
    "plt.xlabel('Time')\n",
    "plt.ylabel('Signal value')\n",
    "plt.axis([-10,10,0,1.2])"
   ]
  },
  {
   "cell_type": "markdown",
   "metadata": {},
   "source": [
    "Once a function has been defined, it can be used anywhere in the notebook:"
   ]
  },
  {
   "cell_type": "code",
   "execution_count": 15,
   "metadata": {
    "collapsed": false
   },
   "outputs": [
    {
     "name": "stdout",
     "output_type": "stream",
     "text": [
      "1.0\n"
     ]
    }
   ],
   "source": [
    "print(UnitStep(3))"
   ]
  },
  {
   "cell_type": "markdown",
   "metadata": {},
   "source": [
    "Later in this assignment, we will use UnitStep to construct and plot Poisson processes."
   ]
  },
  {
   "cell_type": "markdown",
   "metadata": {},
   "source": [
    "<b>Warmup Exercise</b>: use the code cell below to define the rectangular pulse function\n",
    "\n",
    "$$\n",
    "{\\rm Rect}(t) = \\begin{cases}\n",
    "1, & |t| \\leq 1 \\\\\n",
    "0, & |t| > 1\n",
    "\\end{cases},\n",
    "$$\n",
    "\n",
    "and plot it for $t \\in [-4,4]$."
   ]
  },
  {
   "cell_type": "code",
   "execution_count": 24,
   "metadata": {
    "collapsed": false
   },
   "outputs": [
    {
     "name": "stdout",
     "output_type": "stream",
     "text": [
      "[ 0.  0.  1.  1.  1.  0.  0.]\n"
     ]
    },
    {
     "data": {
      "text/plain": [
       "[-4, 4, 0, 1.2]"
      ]
     },
     "execution_count": 24,
     "metadata": {},
     "output_type": "execute_result"
    },
    {
     "data": {
      "image/png": "[encoded data removed]",
      "text/plain": [
       "<matplotlib.figure.Figure at 0x7f136f1029d0>"
      ]
     },
     "metadata": {},
     "output_type": "display_data"
    }
   ],
   "source": [
    "###### student code for Warmup Exercise ######\n",
    "# define UnitStep\n",
    "def Rect(t): # the input to UnitStep is an array of reals\n",
    "    return np.where(abs(t)>1, 0., 1.) # returns an array of 0's (where entries of t are negative) and 1's (otherwise)\n",
    "\n",
    "# example of evaluation\n",
    "tvals = np.array([-3,-2,-1,0,1,2,3])\n",
    "print(Rect(tvals))\n",
    "\n",
    "# now we will generate a plot of UnitStep\n",
    "t = np.linspace(-4,4,1000) # creates an array from -10 to 10 with 1000 points in it\n",
    "plt.plot(t,Rect(t)) # generates a plot of UnitStep(t) vs t\n",
    "plt.title('Rect')\n",
    "plt.xlabel('Time')\n",
    "plt.ylabel('Signal value')\n",
    "plt.axis([-4,4,0,1.2])"
   ]
  },
  {
   "cell_type": "markdown",
   "metadata": {},
   "source": [
    "These are just the basics to be able to program in Python. For a more complete tutorial, take a look at https://docs.python.org/2.7/tutorial/index.html"
   ]
  },
  {
   "cell_type": "markdown",
   "metadata": {},
   "source": [
    "## The Wiener Process"
   ]
  },
  {
   "cell_type": "markdown",
   "metadata": {},
   "source": [
    "We will now use Python to construct, plot, and manipulate (discrete approximations to) sample paths of Wiener processes. In the lectures, we have constructed the Wiener process as a continuous-time limit of random walks: Let $(U_t)_{t \\in {\\mathbb Z}_+}$ be an i.i.d. sequence of Rademacher random variables, that is, ${\\mathbf P}[U_t = \\pm 1] = \\frac{1}{2}$ for all $t$. Fix two positive parameters $h > 0$ and $\\tau > 0$ and define a continuous-time stochastic signal $W = (W_t)_{t \\ge 0}$ with the initial condition $W_0 = 0$ as a linear interpolation of the random points \n",
    "\n",
    "$$\n",
    "W_{n\\tau} = h (U_0 + U_1 + \\ldots + U_{n-1}), \\qquad n = 1,2,3,\\ldots.\n",
    "$$\n",
    "\n",
    "The Wiener process with diffusion parameter $D$ arises when we take the continuous-time limit $\\tau \\to 0$, while ensuring that $h^2/\\tau = D$.\n",
    "\n",
    "In this assignment, we will use an alternative construction of the Wiener process, using standard normal increments. To that end, let $(Z_t)_{t \\in {\\mathbb Z}_+}$ be a sequence of i.i.d. $N(0,1)$ random variables. Fix a small parameter $h > 0$ and define a continuous-time stochastic signal $W = (W_t)_{t \\ge 0}$ with zero initial condition $W_0 = 0$ as a linear interpolation of the random points\n",
    "\n",
    "$$\n",
    "W_{nh} = \\sqrt{Dh} (Z_0 + Z_1 + \\ldots Z_{n-1}), \\qquad n = 1,2,3,\\ldots.\n",
    "$$\n",
    "\n",
    "The code below constructs such a signal on a given interval $[0,t_{{\\max}}]$ for given values of $D$ and $h$ and plots it."
   ]
  },
  {
   "cell_type": "code",
   "execution_count": 26,
   "metadata": {
    "collapsed": false
   },
   "outputs": [
    {
     "data": {
      "text/plain": [
       "<matplotlib.text.Text at 0x7f136ee60fd0>"
      ]
     },
     "execution_count": 26,
     "metadata": {},
     "output_type": "execute_result"
    },
    {
     "data": {
      "image/png": "[encoded data removed]",
      "text/plain": [
       "<matplotlib.figure.Figure at 0x7f136ef3c5d0>"
      ]
     },
     "metadata": {},
     "output_type": "display_data"
    },
    {
     "data": {
      "image/png": "[encoded data removed]",
      "text/plain": [
       "<matplotlib.figure.Figure at 0x7f136f6be7d0>"
      ]
     },
     "metadata": {},
     "output_type": "display_data"
    },
    {
     "data": {
      "image/png": "[encoded data removed]",
      "text/plain": [
       "<matplotlib.figure.Figure at 0x7f136f2837d0>"
      ]
     },
     "metadata": {},
     "output_type": "display_data"
    },
    {
     "data": {
      "image/png": "[encoded data removed]",
      "text/plain": [
       "<matplotlib.figure.Figure at 0x7f136f6e32d0>"
      ]
     },
     "metadata": {},
     "output_type": "display_data"
    }
   ],
   "source": [
    "# define WienerProcess: this function will produce random output\n",
    "# D: diffusion constant (set D=1 for standard Wiener process)\n",
    "# h: timescale\n",
    "# tmax: length of time interval\n",
    "def WienerProcess(D,h,tmax):\n",
    "    z = np.random.normal(size = int(tmax/h)-1) # generate a sequence of iid N(0,1) random increments\n",
    "    zsums = np.append([0],np.cumsum(np.sqrt(D*h) * z)) # compute scaled running sums of the increments\n",
    "    tvals = np.linspace(0,tmax,tmax*int(1/h)) # define the interpolation times\n",
    "    t = np.linspace(0,tmax,10*int(1/h))\n",
    "    w = np.interp(t,tvals,zsums) # construct linear interpolation of w\n",
    "    return (t,w) \n",
    "\n",
    "# generate four successively better approximations of standard Wiener process\n",
    "(t1,W1) = WienerProcess(1,0.1,5)\n",
    "(t2,W2) = WienerProcess(1,0.01,5)\n",
    "(t3,W3) = WienerProcess(1,0.001,5)\n",
    "(t4,W4) = WienerProcess(1,0.0001,5)\n",
    "\n",
    "# plot these approximations\n",
    "# use plt.figure() to initialize a new plot\n",
    "plt.figure() \n",
    "plt.plot(t1,W1)\n",
    "plt.title('Wiener Process (h=0.1)')\n",
    "plt.xlabel('Time')\n",
    "plt.ylabel('Position')\n",
    "\n",
    "plt.figure()\n",
    "plt.plot(t2,W2)\n",
    "plt.title('Wiener Process (h=0.01)')\n",
    "plt.xlabel('Time')\n",
    "plt.ylabel('Position')\n",
    "\n",
    "plt.figure()\n",
    "plt.plot(t3,W3)\n",
    "plt.title('Wiener Process (h=0.01)')\n",
    "plt.xlabel('Time')\n",
    "plt.ylabel('Position')\n",
    "\n",
    "plt.figure()\n",
    "plt.plot(t4,W4)\n",
    "plt.title('Wiener Process (h=0.001)')\n",
    "plt.xlabel('Time')\n",
    "plt.ylabel('Position')"
   ]
  },
  {
   "cell_type": "markdown",
   "metadata": {},
   "source": [
    "<b>Problem 1.</b> By now you know that if $W = (W_t)_{t \\ge 0}$ is a Wiener process with diffusion constant $D$, its time-rescaled version $V = (V_t)_{t \\ge 0}$ with \n",
    "\n",
    "$$\n",
    "V_t = c W_{t/\\sqrt{c}}\n",
    "$$\n",
    "\n",
    "for some $c > 0$ is also a Wiener process with the same diffusion constant. \n",
    "\n",
    "Use the code cell below to generate sample paths of time-rescaled Wiener processes. Your function should take the following inputs: diffusion constant $D$, time scale $h$, maximum time $t_{{\\max}}$, rescaling parameter $c$. Generate and plot sample paths of time-rescaled Wiener processes with $D = 2$, $h=0.001$, $t_{{\\max}} = 5$ and $c = 0.01, 0.1, 1, 10, 100$. "
   ]
  },
  {
   "cell_type": "code",
   "execution_count": 75,
   "metadata": {
    "collapsed": false
   },
   "outputs": [
    {
     "name": "stdout",
     "output_type": "stream",
     "text": [
      "10000 50000 50000\n",
      "10000 15811 15811\n",
      "10000 5000 5000\n",
      "10000 1581 1581\n",
      "10000 500 500\n"
     ]
    },
    {
     "data": {
      "image/png": "[encoded data removed]",
      "text/plain": [
       "<matplotlib.figure.Figure at 0x7f136e380110>"
      ]
     },
     "metadata": {},
     "output_type": "display_data"
    },
    {
     "data": {
      "image/png": "[encoded data removed]",
      "text/plain": [
       "<matplotlib.figure.Figure at 0x7f136f359810>"
      ]
     },
     "metadata": {},
     "output_type": "display_data"
    },
    {
     "data": {
      "image/png": "[encoded data removed]",
      "text/plain": [
       "<matplotlib.figure.Figure at 0x7f136f24b6d0>"
      ]
     },
     "metadata": {},
     "output_type": "display_data"
    },
    {
     "data": {
      "image/png": "[encoded data removed]",
      "text/plain": [
       "<matplotlib.figure.Figure at 0x7f136eb2bd90>"
      ]
     },
     "metadata": {},
     "output_type": "display_data"
    },
    {
     "data": {
      "image/png": "[encoded data removed]",
      "text/plain": [
       "<matplotlib.figure.Figure at 0x7f136f2c4150>"
      ]
     },
     "metadata": {},
     "output_type": "display_data"
    }
   ],
   "source": [
    "###### student code for Problem 1 goes here ######\n",
    "# D: diffusion constant (set D=1 for standard Wiener process)\n",
    "# h: timescale\n",
    "# tmax: length of time interval\n",
    "def ScaledWienerProcess(D,h,tmax,c):\n",
    "    tmax=tmax/np.sqrt(float(c))\n",
    "    z = np.random.normal(size = int(tmax/h)-1) # generate a sequence of iid N(0,1) random increments\n",
    "    zsums = np.append([0],np.cumsum(np.sqrt(D*h) * z)) # compute scaled running sums of the increments\n",
    "    tvals = np.linspace(0,tmax,tmax*int(1/h)) # define the interpolation times\n",
    "    t = np.linspace(0,tmax,10*int(1/h))\n",
    "    print len(t), len(tvals), len(zsums)\n",
    "    w = np.interp(t,tvals,zsums) # construct linear interpolation of w\n",
    "    return (t/np.sqrt(float(c)),c*w) \n",
    "\n",
    "# generate four successively better approximations of standard Wiener process\n",
    "for c in [0.01, 0.1, 1,10,100]:\n",
    "    (t1,W1) = ScaledWienerProcess(2,0.001,5, c)\n",
    "    plt.figure() \n",
    "    plt.plot(t1,W1)\n",
    "    plt.title('Wiener Process (c='+str(c)+')')\n",
    "    plt.xlabel('Time')\n",
    "    plt.ylabel('Position')\n",
    "    plt.xlim([0,5])"
   ]
  },
  {
   "cell_type": "markdown",
   "metadata": {},
   "source": [
    "<b>Problem 2.</b> As a sanity check, modify the above code for WienerProcess to implement the construction from the lecture notes, where the random increments $U_0,U_1,\\ldots$ are i.i.d. Rademacher random variables, i.e., ${\\bf P}[U_k = \\pm 1] = \\frac{1}{2}$. To generate the Rademacher samples, you will need the following Python code that outputs an array containing $n$ i.i.d.\\ ${\\rm Bern}(p)$ ranodm variables:"
   ]
  },
  {
   "cell_type": "code",
   "execution_count": 28,
   "metadata": {
    "collapsed": false
   },
   "outputs": [],
   "source": [
    "b = np.random.binomial(1,p,size=n) # p is the bias between 0 and 1; n is the desired number of samples"
   ]
  },
  {
   "cell_type": "markdown",
   "metadata": {},
   "source": [
    "Use the code cell below to write your modified code and to plot four sample paths with the same parameters as above. You should be seeing roughly the same behavior as in the case of i.i.d. standard normal increments."
   ]
  },
  {
   "cell_type": "code",
   "execution_count": null,
   "metadata": {
    "collapsed": true
   },
   "outputs": [],
   "source": [
    "###### student code for Problem 2 goes here ######"
   ]
  },
  {
   "cell_type": "markdown",
   "metadata": {},
   "source": [
    "## The Poisson Process"
   ]
  },
  {
   "cell_type": "markdown",
   "metadata": {},
   "source": [
    "Our second set of problems concerns the Poisson process. Recall that we can construct a Poisson process $N = (N_t)_{t \\ge 0}$ with arrival rate $\\lambda$ as follows. Let $Z_0,Z_1,\\ldots$ be a sequence of i.i.d. ${\\rm Exp}(\\lambda)$ random variables. Define the random arrival times $T_1,T_2,\\ldots$ by\n",
    "\n",
    "$$\n",
    "T_i = Z_0 + \\ldots + Z_{i-1}, \\qquad i = 1,2,\\ldots\n",
    "$$\n",
    "\n",
    "and for every $t \\ge 0$ take\n",
    "\n",
    "$$\n",
    "N_t = \\sum^\\infty_{i=1} u(t-T_i),\n",
    "$$\n",
    "\n",
    "where $u(\\cdot)$ is the unit step function.\n",
    "\n",
    "The Python code below generates a sample path of a Poisson process with a given rate up to a given number of arrivals. It uses the function UnitStep that we have defined earlier."
   ]
  },
  {
   "cell_type": "code",
   "execution_count": 76,
   "metadata": {
    "collapsed": false
   },
   "outputs": [
    {
     "data": {
      "text/plain": [
       "<matplotlib.text.Text at 0x7f136e1e9090>"
      ]
     },
     "execution_count": 76,
     "metadata": {},
     "output_type": "execute_result"
    },
    {
     "data": {
      "image/png": "[encoded data removed]",
      "text/plain": [
       "<matplotlib.figure.Figure at 0x7f136e2c2290>"
      ]
     },
     "metadata": {},
     "output_type": "display_data"
    }
   ],
   "source": [
    "# define PoissonProcess: this function will produce random output\n",
    "# rate: arrival rate (mean number of arrivals per unit time)\n",
    "# nmax: total number of arrivals\n",
    "def PoissonProcess(rate,nmax):\n",
    "    z = np.random.exponential(1/rate,size=nmax) # generate i.i.d. sequence of interarrival times\n",
    "    arrivals = np.cumsum(z) # compute arrival times T1, ..., Tn\n",
    "    t = np.linspace(0,int(arrivals[-1])+1,1000) # define time interval from t=0 to t=T_n\n",
    "    n = [np.sum([UnitStep(time-arrival) for arrival in arrivals]) for time in t] \n",
    "    return (t,n)\n",
    "\n",
    "# generate a sample path of unit Poisson process with 10 arrivals and plot it\n",
    "(a,N) = PoissonProcess(1,10)\n",
    "\n",
    "plt.figure()\n",
    "plt.plot(a,N)\n",
    "plt.title('Poisson process (lambda = 1)')\n",
    "plt.xlabel('Time')\n",
    "plt.ylabel('Number of arrivals')"
   ]
  },
  {
   "cell_type": "markdown",
   "metadata": {},
   "source": [
    "<b>Problem 3:</b> The code above produces a segment of a Poisson process on the <i>random</i> interval $[0,T_n]$, where $T_n$ is the $n$th arrival time for a given value of $n$, whereas ourr code for the Wiener process generated sample paths on a given interval $[0,t_{{\\max}}]$. \n",
    "\n",
    "In the code cell below, construct a new function that would generate a sample path of a Poisson process with a given rate on a given interval $[0,t_{\\max}]$. To do this, use the discrete-time approximation discussed in class, where you chop the interval $[0,t_{\\max}]$ into $n$ subintervals, for a very large $n$, and then let the arrivals be represented by $n$ i.i.d. Bernoulli random variables with bias $p = \\lambda t_{\\max}/n$. Your function should take the following inputs: the arrival rate $\\lambda$ and the maximum time $t_{{\\max}}$. You will need to set the number of subintervals $n$ large enough, so that $\\lambda t_{\\max} < n$. You may find the UnitStep function useful. \n",
    "\n",
    "Plot the resulting sample paths for $\\lambda = 1,2,4,10$ and for $t_{\\max} = 5$."
   ]
  },
  {
   "cell_type": "code",
   "execution_count": null,
   "metadata": {
    "collapsed": false
   },
   "outputs": [],
   "source": [
    "###### student code for Problem 3 goes here ######"
   ]
  },
  {
   "cell_type": "markdown",
   "metadata": {},
   "source": [
    "<b>Problem 4:</b> Poisson processes are used to model situations where discrete events happen at random times. For example, a Poisson process with rate $\\lambda$ can be used to model the number of customers arriving at a ticket counter in the airport, where $\\lambda$ is the average number of new customer arrivals per unit time. \n",
    "\n",
    "In this problem, we will consider the situation when there are several independent queues of customers arriving at the counter. Formally, let $m$ be the number of queues, and for each $k \\in \\{ 1,\\ldots,m \\}$ let $N^{(k)} = (N^{(k)}_t)_{t \\ge 0}$ be a Poisson process with rate $\\lambda_k$. Thus, $\\lambda_k$ is the average number of customers arrivals per unit time via the $k$th queue. We assume that these Poisson processes are mutually independent. The total number of arrivals at the counter at time $t$ is then\n",
    "\n",
    "$$\n",
    "N_t = \\sum^m_{k=1} N^{(k)}_t.\n",
    "$$\n",
    "\n",
    "In the cell below, adapt your code from Problem 3 to generate two independent Poisson processes with rates $\\lambda_1 = 3$ and $\\lambda_2 = 5$ on the interval $[0,10]$ and plot the sample path of their sum."
   ]
  },
  {
   "cell_type": "code",
   "execution_count": null,
   "metadata": {
    "collapsed": true
   },
   "outputs": [],
   "source": [
    "###### student code for Problem 4 goes here ######"
   ]
  },
  {
   "cell_type": "markdown",
   "metadata": {},
   "source": [
    "In the markdown cell below, comment on what you see. Do you think that the sum process $N$ is also a Poisson process?  If so, why do you think so, and what do you think its arrival rate is?\n",
    "\n",
    "<i>Hint:</i> Consider two independent Poisson random variables $X \\sim {\\rm Pois}(\\lambda_1)$ and $Y \\sim {\\rm Pois}(\\lambda_2)$. Prove that their sum $X + Y$ is also a Poisson random variable with parameter $\\lambda_1 + \\lambda_2$. Now let $N^{(1)}$ and $N^{(2)}$ be two independent Poisson processes with rates $\\lambda_1$ and $\\lambda_2$, respectively, and analyze the increments $N_t - N_s$ of the sum $N_t = N^{(1)}_t + N^{(2)}_t$."
   ]
  },
  {
   "cell_type": "markdown",
   "metadata": {},
   "source": [
    "----- student answer for Problem 4 goes here -----"
   ]
  },
  {
   "cell_type": "markdown",
   "metadata": {},
   "source": [
    "<b>Problem 5:</b> Now we consider the opposite situation: customers arrive at a rate of $\\lambda$, but each new customer independently decides to join one of two queues with respective probabilities $p$ and $1-p$. That is, we have a Poisson process $N = (N_t)_{t \\ge 0}$ with rate $\\lambda$, and then we form two counting processes $N^{(1)} = (N_t)_{t \\ge 0}$ and $N^{(2)} = (N^{(2)}_t)_{t \\ge 0}$ as follows:\n",
    "\n",
    "Let $T_1,T_2,\\ldots$ be the arrival times of $N$, and let $U_1,U_2,\\ldots$ be i.i.d. ${\\rm Bern}(p)$ random variables that are also independent of all the arrival times. Then\n",
    "\n",
    "$$\n",
    "N^{(1)}_t = \\sum^{N_t}_{i=1} U_{N_{T_i}}\n",
    "$$\n",
    "\n",
    "and\n",
    "\n",
    "$$\n",
    "N^{(2)}_t = \\sum^{N_t}_{i=1} (1-U_{N_{T_i}}).\n",
    "$$\n",
    "\n",
    "Use your code from Problem 3 to model such a situation. Plot the resulting sample paths of $N$, $N^{(1)}$, and $N^{(2)}$ with the following parameters: $\\lambda = 2$, $p = 0.4$, $t_{\\max} = 10$."
   ]
  },
  {
   "cell_type": "code",
   "execution_count": null,
   "metadata": {
    "collapsed": true
   },
   "outputs": [],
   "source": [
    "###### student code for Problem 5 goes here ######"
   ]
  },
  {
   "cell_type": "markdown",
   "metadata": {},
   "source": [
    "In the markdown cell below, comment on what you see. Do you think that the two counting processes $N^{(1)}$ and $N^{(2)}$ are also Poisson processes?  If so, why do you think so, and what do you think their arrival rates are?\n",
    "\n",
    "<i>Hint:</i> Compute the distribution of $N^{(1)}_t$ using the law of total probability as follows:\n",
    "\n",
    "\\begin{align*}\n",
    "{\\bf P}[N^{(1)}_t = m] &= \\sum^\\infty_{n=0} {\\bf P}[N^{(1)}_t = m\\, |\\, N_t = k] {\\bf P}[N_t = k] \\\\\n",
    "&= \\sum^n_{k=0} {\\bf P}[U_1 + \\ldots + U_k = m\\, |\\, N_t = k] {\\bf P}[N_t = k],\n",
    "\\end{align*}\n",
    "\n",
    "then use the fact that $U_1 + \\ldots + U_n \\sim {\\rm Binom}(n,p)$ and that the $U_i$'s are independent of $N$."
   ]
  },
  {
   "cell_type": "markdown",
   "metadata": {},
   "source": [
    "----- student answer for Problem 5 goes here -----"
   ]
  }
 ],
 "metadata": {
  "kernelspec": {
   "display_name": "Python 2",
   "language": "python",
   "name": "python2"
  },
  "language_info": {
   "codemirror_mode": {
    "name": "ipython",
    "version": 2
   },
   "file_extension": ".py",
   "mimetype": "text/x-python",
   "name": "python",
   "nbconvert_exporter": "python",
   "pygments_lexer": "ipython2",
   "version": "2.7.10"
  }
 },
 "nbformat": 4,
 "nbformat_minor": 0
}
