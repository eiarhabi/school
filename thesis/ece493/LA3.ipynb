{
 "metadata": {
  "name": "",
  "signature": "sha256:dc0d26e7a98d169b82e322f7634579c8f0a8dcc7714caf86c497ae49fd3525c8"
 },
 "nbformat": 3,
 "nbformat_minor": 0,
 "worksheets": [
  {
   "cells": [
    {
     "cell_type": "code",
     "collapsed": false,
     "input": [
      "import numpy as np\n",
      "import operator\n",
      "from os import listdir\n",
      "import matplotlib\n",
      "import matplotlib.pyplot as plt\n",
      "import pandas as pd\n",
      "from numpy.linalg import *\n",
      "from scipy.stats.stats import pearsonr\n",
      "from numpy import linalg as la"
     ],
     "language": "python",
     "metadata": {},
     "outputs": [],
     "prompt_number": 6
    },
    {
     "cell_type": "code",
     "collapsed": false,
     "input": [
      "A = np.matrix([[1,0], [0,1], [1,1]])\n",
      "b = np.ones((3,1))\n",
      "la.lstsq(A, b)\n",
      "la.eig(A.T*A)"
     ],
     "language": "python",
     "metadata": {},
     "outputs": [
      {
       "metadata": {},
       "output_type": "pyout",
       "prompt_number": 20,
       "text": [
        "(array([ 3.,  1.]), matrix([[ 0.70710678, -0.70710678],\n",
        "         [ 0.70710678,  0.70710678]]))"
       ]
      }
     ],
     "prompt_number": 20
    },
    {
     "cell_type": "code",
     "collapsed": false,
     "input": [
      "A = np.matrix([[1,1,0], [1,-1,1]])\n",
      "A"
     ],
     "language": "python",
     "metadata": {},
     "outputs": [
      {
       "metadata": {},
       "output_type": "pyout",
       "prompt_number": 23,
       "text": [
        "matrix([[ 1,  1,  0],\n",
        "        [ 1, -1,  1]])"
       ]
      }
     ],
     "prompt_number": 23
    },
    {
     "cell_type": "code",
     "collapsed": false,
     "input": [
      "A.T*A"
     ],
     "language": "python",
     "metadata": {},
     "outputs": [
      {
       "metadata": {},
       "output_type": "pyout",
       "prompt_number": 25,
       "text": [
        "matrix([[ 2,  0,  1],\n",
        "        [ 0,  2, -1],\n",
        "        [ 1, -1,  1]])"
       ]
      }
     ],
     "prompt_number": 25
    },
    {
     "cell_type": "code",
     "collapsed": false,
     "input": [
      "la.eig(A.T*A)"
     ],
     "language": "python",
     "metadata": {},
     "outputs": [
      {
       "metadata": {},
       "output_type": "pyout",
       "prompt_number": 24,
       "text": [
        "(array([ -2.22044605e-16,   2.00000000e+00,   3.00000000e+00]),\n",
        " matrix([[  4.08248290e-01,  -7.07106781e-01,   5.77350269e-01],\n",
        "         [ -4.08248290e-01,  -7.07106781e-01,  -5.77350269e-01],\n",
        "         [ -8.16496581e-01,  -5.52199616e-16,   5.77350269e-01]]))"
       ]
      }
     ],
     "prompt_number": 24
    },
    {
     "cell_type": "code",
     "collapsed": false,
     "input": [
      "la.svd(A.T)"
     ],
     "language": "python",
     "metadata": {},
     "outputs": [
      {
       "metadata": {},
       "output_type": "pyout",
       "prompt_number": 26,
       "text": [
        "(matrix([[ 0.57735027, -0.70710678, -0.40824829],\n",
        "         [-0.57735027, -0.70710678,  0.40824829],\n",
        "         [ 0.57735027,  0.        ,  0.81649658]]),\n",
        " array([ 1.73205081,  1.41421356]),\n",
        " matrix([[ 0.,  1.],\n",
        "         [-1., -0.]]))"
       ]
      }
     ],
     "prompt_number": 26
    },
    {
     "cell_type": "code",
     "collapsed": false,
     "input": [],
     "language": "python",
     "metadata": {},
     "outputs": []
    }
   ],
   "metadata": {}
  }
 ]
}