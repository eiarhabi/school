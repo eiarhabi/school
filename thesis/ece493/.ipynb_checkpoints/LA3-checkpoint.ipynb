{
 "metadata": {
  "name": "",
  "signature": "sha256:bc8a191b4441a9cb45cede146946c0a9b68270dc89494326b28c65b3c05e5d08"
 },
 "nbformat": 3,
 "nbformat_minor": 0,
 "worksheets": []
}